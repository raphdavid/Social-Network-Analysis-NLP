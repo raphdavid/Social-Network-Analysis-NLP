{
 "cells": [
  {
   "cell_type": "markdown",
   "metadata": {},
   "source": [
    "__Bag of Words__"
   ]
  },
  {
   "cell_type": "code",
   "execution_count": 86,
   "metadata": {},
   "outputs": [],
   "source": [
    "import numpy as np\n",
    "import pandas as pd\n",
    "import nltk\n",
    "import matplotlib.pyplot as plt\n"
   ]
  },
  {
   "cell_type": "code",
   "execution_count": 7,
   "metadata": {},
   "outputs": [],
   "source": [
    "#reading file\n",
    "filename = 'SNA_Res_100_pdfs_combinedTxt.txt'\n",
    "file = open(filename, encoding = \"utf8\")\n",
    "text = file.read()\n",
    "file.close()\n"
   ]
  },
  {
   "cell_type": "code",
   "execution_count": 8,
   "metadata": {},
   "outputs": [
    {
     "name": "stdout",
     "output_type": "stream",
     "text": [
      "['\\ufeffOn', 'Service', 'Resilience', 'in', 'Cloud-Native', '5G', 'Mobile', 'Systems', 'Tarik', 'Taleb,', 'Senior', 'Member,', 'IEEE,', 'Adlen', 'Ksentini,', 'Senior', 'Member,', 'IEEE,', 'and', 'Bruno', 'Sericola', 'Abstract—To', 'cope', 'with', 'the', 'tremendous', 'growth', 'in', 'mobile', 'data', 'traffic', 'on', 'one', 'hand,', 'and', 'the', 'modest', 'average', 'revenue', 'per', 'user', 'on', 'the', 'other', 'hand,', 'mobile', 'operators', 'have', 'been', 'exploring', 'network', 'virtualization', 'and', 'cloud', 'computing', 'technologies', 'to', 'build', 'cost-', 'efficient', 'and', 'elastic', 'mobile', 'networks', 'and', 'to', 'have', 'them', 'offered', 'as', 'a', 'cloud', 'service.', 'In', 'such', 'cloud-based', 'mobile', 'networks,', 'ensur-', 'ing', 'service', 'resilience', 'is', 'an', 'important', 'challenge', 'to', 'tackle.', 'Indeed,', 'high', 'availability', 'and', 'service', 'reliability', 'are', 'important', 'require-', 'ments', 'of', 'carrier']\n"
     ]
    }
   ],
   "source": [
    "#delimiting words\n",
    "words = text.split()\n",
    "print(words[:100])"
   ]
  },
  {
   "cell_type": "code",
   "execution_count": 28,
   "metadata": {
    "scrolled": false
   },
   "outputs": [],
   "source": [
    "#removing stopwords\n",
    "\n",
    "from nltk.corpus import stopwords\n",
    "stop = stopwords.words('english')\n",
    "\n",
    "array = np.array(words)\n",
    "df = pd.DataFrame(array, columns = ['Words'])\n",
    "\n",
    "filtered = df['Words'].apply(lambda x: ' '.join([word for word in x.split() if word not in (stop)]))\n"
   ]
  },
  {
   "cell_type": "code",
   "execution_count": 38,
   "metadata": {
    "scrolled": true
   },
   "outputs": [],
   "source": [
    "#removing blank rows\n",
    "\n",
    "nan_value = float(\"NaN\")\n",
    "filtered.replace(\"\",nan_value,inplace =True)\n",
    "filtered.dropna(inplace = True)\n"
   ]
  },
  {
   "cell_type": "code",
   "execution_count": 40,
   "metadata": {},
   "outputs": [],
   "source": [
    "#filter commas out\n",
    "\n",
    "filtered.replace(',','', regex=True, inplace=True)\n"
   ]
  },
  {
   "cell_type": "code",
   "execution_count": 91,
   "metadata": {},
   "outputs": [
    {
     "data": {
      "text/html": [
       "<div>\n",
       "<style scoped>\n",
       "    .dataframe tbody tr th:only-of-type {\n",
       "        vertical-align: middle;\n",
       "    }\n",
       "\n",
       "    .dataframe tbody tr th {\n",
       "        vertical-align: top;\n",
       "    }\n",
       "\n",
       "    .dataframe thead th {\n",
       "        text-align: right;\n",
       "    }\n",
       "</style>\n",
       "<table border=\"1\" class=\"dataframe\">\n",
       "  <thead>\n",
       "    <tr style=\"text-align: right;\">\n",
       "      <th></th>\n",
       "      <th>Frequency</th>\n",
       "    </tr>\n",
       "  </thead>\n",
       "  <tbody>\n",
       "    <tr>\n",
       "      <th>network</th>\n",
       "      <td>3121</td>\n",
       "    </tr>\n",
       "    <tr>\n",
       "      <th>The</th>\n",
       "      <td>2955</td>\n",
       "    </tr>\n",
       "    <tr>\n",
       "      <th>social</th>\n",
       "      <td>2649</td>\n",
       "    </tr>\n",
       "    <tr>\n",
       "      <th>&amp;</th>\n",
       "      <td>1672</td>\n",
       "    </tr>\n",
       "    <tr>\n",
       "      <th>et</th>\n",
       "      <td>1585</td>\n",
       "    </tr>\n",
       "    <tr>\n",
       "      <th>...</th>\n",
       "      <td>...</td>\n",
       "    </tr>\n",
       "    <tr>\n",
       "      <th>Kim.</th>\n",
       "      <td>1</td>\n",
       "    </tr>\n",
       "    <tr>\n",
       "      <th>rounded</th>\n",
       "      <td>1</td>\n",
       "    </tr>\n",
       "    <tr>\n",
       "      <th>Exposed:</th>\n",
       "      <td>1</td>\n",
       "    </tr>\n",
       "    <tr>\n",
       "      <th>Twitter-centric</th>\n",
       "      <td>1</td>\n",
       "    </tr>\n",
       "    <tr>\n",
       "      <th>‘Get</th>\n",
       "      <td>1</td>\n",
       "    </tr>\n",
       "  </tbody>\n",
       "</table>\n",
       "<p>55383 rows × 1 columns</p>\n",
       "</div>"
      ],
      "text/plain": [
       "                 Frequency\n",
       "network               3121\n",
       "The                   2955\n",
       "social                2649\n",
       "&                     1672\n",
       "et                    1585\n",
       "...                    ...\n",
       "Kim.                     1\n",
       "rounded                  1\n",
       "Exposed:                 1\n",
       "Twitter-centric          1\n",
       "‘Get                     1\n",
       "\n",
       "[55383 rows x 1 columns]"
      ]
     },
     "execution_count": 91,
     "metadata": {},
     "output_type": "execute_result"
    }
   ],
   "source": [
    "#Getting the words with highest frequency\n",
    "ranked_words = filtered.value_counts()\n",
    "top = pd.DataFrame(data = ranked_words)\n",
    "top.rename(columns ={\"Words\": \"Frequency\"},inplace = True)\n",
    "top\n",
    "\n"
   ]
  },
  {
   "cell_type": "code",
   "execution_count": 92,
   "metadata": {},
   "outputs": [
    {
     "data": {
      "image/png": "[encoded data removed]",
      "text/plain": [
       "<Figure size 432x288 with 1 Axes>"
      ]
     },
     "metadata": {
      "needs_background": "light"
     },
     "output_type": "display_data"
    }
   ],
   "source": [
    "#quick bar graph representation\n",
    "graph = top.iloc[0:20].plot.bar()"
   ]
  },
  {
   "cell_type": "code",
   "execution_count": null,
   "metadata": {},
   "outputs": [],
   "source": []
  }
 ],
 "metadata": {
  "kernelspec": {
   "display_name": "Python 3",
   "language": "python",
   "name": "python3"
  },
  "language_info": {
   "codemirror_mode": {
    "name": "ipython",
    "version": 3
   },
   "file_extension": ".py",
   "mimetype": "text/x-python",
   "name": "python",
   "nbconvert_exporter": "python",
   "pygments_lexer": "ipython3",
   "version": "3.7.6"
  }
 },
 "nbformat": 4,
 "nbformat_minor": 4
}
